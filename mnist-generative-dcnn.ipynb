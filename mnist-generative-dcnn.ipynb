{
 "cells": [
  {
   "cell_type": "markdown",
   "id": "34791ef7",
   "metadata": {
    "papermill": {
     "duration": 0.00952,
     "end_time": "2021-11-21T20:40:48.144005",
     "exception": false,
     "start_time": "2021-11-21T20:40:48.134485",
     "status": "completed"
    },
    "tags": []
   },
   "source": [
    "# 20180008 - 20180256\n",
    "# Autoencoder"
   ]
  },
  {
   "cell_type": "code",
   "execution_count": 1,
   "id": "66f2a676",
   "metadata": {
    "_cell_guid": "b1076dfc-b9ad-4769-8c92-a6c4dae69d19",
    "_uuid": "8f2839f25d086af736a60e9eeb907d3b93b6e0e5",
    "execution": {
     "iopub.execute_input": "2021-11-21T20:40:48.164704Z",
     "iopub.status.busy": "2021-11-21T20:40:48.163183Z",
     "iopub.status.idle": "2021-11-21T20:40:55.228249Z",
     "shell.execute_reply": "2021-11-21T20:40:55.228700Z",
     "shell.execute_reply.started": "2021-11-21T20:36:27.830086Z"
    },
    "papermill": {
     "duration": 7.076536,
     "end_time": "2021-11-21T20:40:55.228948",
     "exception": false,
     "start_time": "2021-11-21T20:40:48.152412",
     "status": "completed"
    },
    "tags": []
   },
   "outputs": [
    {
     "name": "stderr",
     "output_type": "stream",
     "text": [
      "2021-11-21 20:40:52.890873: I tensorflow/stream_executor/cuda/cuda_gpu_executor.cc:937] successful NUMA node read from SysFS had negative value (-1), but there must be at least one NUMA node, so returning NUMA node zero\n"
     ]
    },
    {
     "name": "stdout",
     "output_type": "stream",
     "text": [
      "Model Structure\n",
      "------------------------------------\n",
      "Model: \"model\"\n",
      "_________________________________________________________________\n",
      "Layer (type)                 Output Shape              Param #   \n",
      "=================================================================\n",
      "input_1 (InputLayer)         [(None, 28, 28, 1)]       0         \n",
      "_________________________________________________________________\n",
      "conv2d (Conv2D)              (None, 28, 28, 100)       1000      \n",
      "_________________________________________________________________\n",
      "max_pooling2d (MaxPooling2D) (None, 14, 14, 100)       0         \n",
      "_________________________________________________________________\n",
      "conv2d_1 (Conv2D)            (None, 14, 14, 20)        18020     \n",
      "_________________________________________________________________\n",
      "max_pooling2d_1 (MaxPooling2 (None, 7, 7, 20)          0         \n",
      "_________________________________________________________________\n",
      "conv2d_2 (Conv2D)            (None, 7, 7, 4)           724       \n",
      "_________________________________________________________________\n",
      "up_sampling2d (UpSampling2D) (None, 14, 14, 4)         0         \n",
      "_________________________________________________________________\n",
      "conv2d_3 (Conv2D)            (None, 14, 14, 20)        740       \n",
      "_________________________________________________________________\n",
      "up_sampling2d_1 (UpSampling2 (None, 28, 28, 20)        0         \n",
      "_________________________________________________________________\n",
      "conv2d_4 (Conv2D)            (None, 28, 28, 100)       18100     \n",
      "_________________________________________________________________\n",
      "conv2d_5 (Conv2D)            (None, 28, 28, 1)         401       \n",
      "=================================================================\n",
      "Total params: 38,985\n",
      "Trainable params: 38,985\n",
      "Non-trainable params: 0\n",
      "_________________________________________________________________\n"
     ]
    },
    {
     "name": "stderr",
     "output_type": "stream",
     "text": [
      "2021-11-21 20:40:53.007937: I tensorflow/stream_executor/cuda/cuda_gpu_executor.cc:937] successful NUMA node read from SysFS had negative value (-1), but there must be at least one NUMA node, so returning NUMA node zero\n",
      "2021-11-21 20:40:53.008636: I tensorflow/stream_executor/cuda/cuda_gpu_executor.cc:937] successful NUMA node read from SysFS had negative value (-1), but there must be at least one NUMA node, so returning NUMA node zero\n",
      "2021-11-21 20:40:53.009707: I tensorflow/core/platform/cpu_feature_guard.cc:142] This TensorFlow binary is optimized with oneAPI Deep Neural Network Library (oneDNN) to use the following CPU instructions in performance-critical operations:  AVX2 AVX512F FMA\n",
      "To enable them in other operations, rebuild TensorFlow with the appropriate compiler flags.\n",
      "2021-11-21 20:40:53.019206: I tensorflow/stream_executor/cuda/cuda_gpu_executor.cc:937] successful NUMA node read from SysFS had negative value (-1), but there must be at least one NUMA node, so returning NUMA node zero\n",
      "2021-11-21 20:40:53.019929: I tensorflow/stream_executor/cuda/cuda_gpu_executor.cc:937] successful NUMA node read from SysFS had negative value (-1), but there must be at least one NUMA node, so returning NUMA node zero\n",
      "2021-11-21 20:40:53.020609: I tensorflow/stream_executor/cuda/cuda_gpu_executor.cc:937] successful NUMA node read from SysFS had negative value (-1), but there must be at least one NUMA node, so returning NUMA node zero\n",
      "2021-11-21 20:40:54.818839: I tensorflow/stream_executor/cuda/cuda_gpu_executor.cc:937] successful NUMA node read from SysFS had negative value (-1), but there must be at least one NUMA node, so returning NUMA node zero\n",
      "2021-11-21 20:40:54.819620: I tensorflow/stream_executor/cuda/cuda_gpu_executor.cc:937] successful NUMA node read from SysFS had negative value (-1), but there must be at least one NUMA node, so returning NUMA node zero\n",
      "2021-11-21 20:40:54.820252: I tensorflow/stream_executor/cuda/cuda_gpu_executor.cc:937] successful NUMA node read from SysFS had negative value (-1), but there must be at least one NUMA node, so returning NUMA node zero\n",
      "2021-11-21 20:40:54.820824: I tensorflow/core/common_runtime/gpu/gpu_device.cc:1510] Created device /job:localhost/replica:0/task:0/device:GPU:0 with 15403 MB memory:  -> device: 0, name: Tesla P100-PCIE-16GB, pci bus id: 0000:00:04.0, compute capability: 6.0\n"
     ]
    }
   ],
   "source": [
    "import keras\n",
    "from keras import layers\n",
    "\n",
    "embed_filter_c = 4\n",
    "\n",
    "input_img = keras.Input(shape=(28, 28, 1))\n",
    "\n",
    "x = layers.Conv2D(100, (3, 3), activation=layers.LeakyReLU(), padding='same')(input_img)\n",
    "x = layers.MaxPooling2D((2, 2), padding='same')(x) #(28,28 to 14,14)\n",
    "\n",
    "x = layers.Conv2D(20, (3, 3), activation=layers.LeakyReLU(), padding='same')(x)\n",
    "x = layers.MaxPooling2D((2, 2), padding='same')(x)\n",
    "\n",
    "encoded = layers.Conv2D(embed_filter_c, (3, 3), activation=layers.LeakyReLU(),padding='same')(x)\n",
    "\n",
    "x = layers.UpSampling2D((2, 2))(encoded)\n",
    "x = layers.Conv2D(20, (3, 3), activation=layers.LeakyReLU(),padding='same')(x)\n",
    "\n",
    "x = layers.UpSampling2D((2, 2))(x)\n",
    "x = layers.Conv2D(100, (3, 3), activation=layers.LeakyReLU(),padding='same')(x)\n",
    "\n",
    "decoded = layers.Conv2D(1, (2, 2), activation=layers.LeakyReLU(), padding='same')(x)\n",
    "print(\"Model Structure\\n------------------------------------\")\n",
    "autoencoder = keras.Model(input_img, decoded)\n",
    "autoencoder.compile(optimizer='adam', loss='mse')\n",
    "autoencoder.summary()"
   ]
  },
  {
   "cell_type": "code",
   "execution_count": 2,
   "id": "45aa1bcd",
   "metadata": {
    "_cell_guid": "b1076dfc-b9ad-4769-8c92-a6c4dae69d19",
    "_uuid": "8f2839f25d086af736a60e9eeb907d3b93b6e0e5",
    "execution": {
     "iopub.execute_input": "2021-11-21T20:40:55.251427Z",
     "iopub.status.busy": "2021-11-21T20:40:55.250732Z",
     "iopub.status.idle": "2021-11-21T20:43:46.831393Z",
     "shell.execute_reply": "2021-11-21T20:43:46.830901Z",
     "shell.execute_reply.started": "2021-11-21T20:36:34.997768Z"
    },
    "papermill": {
     "duration": 171.594239,
     "end_time": "2021-11-21T20:43:46.831523",
     "exception": false,
     "start_time": "2021-11-21T20:40:55.237284",
     "status": "completed"
    },
    "tags": []
   },
   "outputs": [
    {
     "name": "stdout",
     "output_type": "stream",
     "text": [
      "Downloading data from https://storage.googleapis.com/tensorflow/tf-keras-datasets/mnist.npz\n",
      "11493376/11490434 [==============================] - 0s 0us/step\n",
      "11501568/11490434 [==============================] - 0s 0us/step\n"
     ]
    },
    {
     "name": "stderr",
     "output_type": "stream",
     "text": [
      "2021-11-21 20:40:56.418875: I tensorflow/compiler/mlir/mlir_graph_optimization_pass.cc:185] None of the MLIR Optimization Passes are enabled (registered 2)\n"
     ]
    },
    {
     "name": "stdout",
     "output_type": "stream",
     "text": [
      "Epoch 1/30\n"
     ]
    },
    {
     "name": "stderr",
     "output_type": "stream",
     "text": [
      "2021-11-21 20:40:57.637743: I tensorflow/stream_executor/cuda/cuda_dnn.cc:369] Loaded cuDNN version 8005\n"
     ]
    },
    {
     "name": "stdout",
     "output_type": "stream",
     "text": [
      "469/469 [==============================] - 12s 13ms/step - loss: 0.0123 - val_loss: 0.0050\n",
      "Epoch 2/30\n",
      "469/469 [==============================] - 6s 12ms/step - loss: 0.0045 - val_loss: 0.0039\n",
      "Epoch 3/30\n",
      "469/469 [==============================] - 5s 11ms/step - loss: 0.0036 - val_loss: 0.0032\n",
      "Epoch 4/30\n",
      "469/469 [==============================] - 6s 12ms/step - loss: 0.0032 - val_loss: 0.0030\n",
      "Epoch 5/30\n",
      "469/469 [==============================] - 5s 11ms/step - loss: 0.0029 - val_loss: 0.0027\n",
      "Epoch 6/30\n",
      "469/469 [==============================] - 5s 12ms/step - loss: 0.0027 - val_loss: 0.0025\n",
      "Epoch 7/30\n",
      "469/469 [==============================] - 5s 11ms/step - loss: 0.0025 - val_loss: 0.0024\n",
      "Epoch 8/30\n",
      "469/469 [==============================] - 5s 12ms/step - loss: 0.0024 - val_loss: 0.0025\n",
      "Epoch 9/30\n",
      "469/469 [==============================] - 5s 11ms/step - loss: 0.0023 - val_loss: 0.0022\n",
      "Epoch 10/30\n",
      "469/469 [==============================] - 6s 12ms/step - loss: 0.0022 - val_loss: 0.0021\n",
      "Epoch 11/30\n",
      "469/469 [==============================] - 5s 11ms/step - loss: 0.0022 - val_loss: 0.0021\n",
      "Epoch 12/30\n",
      "469/469 [==============================] - 6s 12ms/step - loss: 0.0021 - val_loss: 0.0020\n",
      "Epoch 13/30\n",
      "469/469 [==============================] - 5s 12ms/step - loss: 0.0021 - val_loss: 0.0020\n",
      "Epoch 14/30\n",
      "469/469 [==============================] - 5s 12ms/step - loss: 0.0020 - val_loss: 0.0020\n",
      "Epoch 15/30\n",
      "469/469 [==============================] - 5s 12ms/step - loss: 0.0020 - val_loss: 0.0019\n",
      "Epoch 16/30\n",
      "469/469 [==============================] - 6s 12ms/step - loss: 0.0019 - val_loss: 0.0019\n",
      "Epoch 17/30\n",
      "469/469 [==============================] - 5s 11ms/step - loss: 0.0019 - val_loss: 0.0018\n",
      "Epoch 18/30\n",
      "469/469 [==============================] - 5s 12ms/step - loss: 0.0019 - val_loss: 0.0018\n",
      "Epoch 19/30\n",
      "469/469 [==============================] - 5s 11ms/step - loss: 0.0018 - val_loss: 0.0018\n",
      "Epoch 20/30\n",
      "469/469 [==============================] - 5s 12ms/step - loss: 0.0018 - val_loss: 0.0019\n",
      "Epoch 21/30\n",
      "469/469 [==============================] - 5s 12ms/step - loss: 0.0018 - val_loss: 0.0017\n",
      "Epoch 22/30\n",
      "469/469 [==============================] - 6s 12ms/step - loss: 0.0017 - val_loss: 0.0017\n",
      "Epoch 23/30\n",
      "469/469 [==============================] - 5s 12ms/step - loss: 0.0017 - val_loss: 0.0016\n",
      "Epoch 24/30\n",
      "469/469 [==============================] - 5s 11ms/step - loss: 0.0017 - val_loss: 0.0016\n",
      "Epoch 25/30\n",
      "469/469 [==============================] - 5s 12ms/step - loss: 0.0017 - val_loss: 0.0016\n",
      "Epoch 26/30\n",
      "469/469 [==============================] - 5s 11ms/step - loss: 0.0017 - val_loss: 0.0016\n",
      "Epoch 27/30\n",
      "469/469 [==============================] - 5s 12ms/step - loss: 0.0016 - val_loss: 0.0016\n",
      "Epoch 28/30\n",
      "469/469 [==============================] - 6s 12ms/step - loss: 0.0016 - val_loss: 0.0016\n",
      "Epoch 29/30\n",
      "469/469 [==============================] - 5s 12ms/step - loss: 0.0016 - val_loss: 0.0015\n",
      "Epoch 30/30\n",
      "469/469 [==============================] - 5s 11ms/step - loss: 0.0016 - val_loss: 0.0015\n"
     ]
    },
    {
     "data": {
      "text/plain": [
       "<keras.callbacks.History at 0x7ff0fa44cc10>"
      ]
     },
     "execution_count": 2,
     "metadata": {},
     "output_type": "execute_result"
    }
   ],
   "source": [
    "from keras.datasets import mnist\n",
    "import numpy as np\n",
    "\n",
    "(x_train, _), (x_test, _) = mnist.load_data()\n",
    "\n",
    "x_train = x_train.astype('float32') / 255.\n",
    "x_test = x_test.astype('float32') / 255.\n",
    "x_train = np.reshape(x_train, (len(x_train), 28, 28, 1))\n",
    "x_test = np.reshape(x_test, (len(x_test), 28, 28, 1))\n",
    "\n",
    "autoencoder.fit(x_train, x_train,\n",
    "                epochs=30, #5, #50,\n",
    "                batch_size=128,\n",
    "                shuffle=True,\n",
    "                validation_data=(x_test, x_test))\n",
    "#                 ,verbose =0)\n",
    "                #callbacks=[TensorBoard(log_dir='/tmp/autoencoder')])"
   ]
  },
  {
   "cell_type": "markdown",
   "id": "5f24a4a9",
   "metadata": {
    "papermill": {
     "duration": 0.736273,
     "end_time": "2021-11-21T20:43:48.546041",
     "exception": false,
     "start_time": "2021-11-21T20:43:47.809768",
     "status": "completed"
    },
    "tags": []
   },
   "source": [
    "# Encoder"
   ]
  },
  {
   "cell_type": "code",
   "execution_count": 3,
   "id": "97a4f788",
   "metadata": {
    "_cell_guid": "b1076dfc-b9ad-4769-8c92-a6c4dae69d19",
    "_uuid": "8f2839f25d086af736a60e9eeb907d3b93b6e0e5",
    "execution": {
     "iopub.execute_input": "2021-11-21T20:43:50.027343Z",
     "iopub.status.busy": "2021-11-21T20:43:50.026512Z",
     "iopub.status.idle": "2021-11-21T20:43:50.799605Z",
     "shell.execute_reply": "2021-11-21T20:43:50.800644Z",
     "shell.execute_reply.started": "2021-11-21T20:39:27.491492Z"
    },
    "papermill": {
     "duration": 1.51502,
     "end_time": "2021-11-21T20:43:50.800855",
     "exception": false,
     "start_time": "2021-11-21T20:43:49.285835",
     "status": "completed"
    },
    "tags": []
   },
   "outputs": [
    {
     "name": "stdout",
     "output_type": "stream",
     "text": [
      "Encoder Structure\n",
      "------------------------------------\n",
      "Model: \"model_1\"\n",
      "_________________________________________________________________\n",
      "Layer (type)                 Output Shape              Param #   \n",
      "=================================================================\n",
      "input_1 (InputLayer)         [(None, 28, 28, 1)]       0         \n",
      "_________________________________________________________________\n",
      "conv2d (Conv2D)              (None, 28, 28, 100)       1000      \n",
      "_________________________________________________________________\n",
      "max_pooling2d (MaxPooling2D) (None, 14, 14, 100)       0         \n",
      "_________________________________________________________________\n",
      "conv2d_1 (Conv2D)            (None, 14, 14, 20)        18020     \n",
      "_________________________________________________________________\n",
      "max_pooling2d_1 (MaxPooling2 (None, 7, 7, 20)          0         \n",
      "_________________________________________________________________\n",
      "conv2d_2 (Conv2D)            (None, 7, 7, 4)           724       \n",
      "=================================================================\n",
      "Total params: 19,744\n",
      "Trainable params: 19,744\n",
      "Non-trainable params: 0\n",
      "_________________________________________________________________\n"
     ]
    }
   ],
   "source": [
    "encoder = keras.Model(input_img, encoded)\n",
    "\n",
    "encoded_imgs = encoder.predict(x_test)\n",
    "\n",
    "print(\"Encoder Structure\\n------------------------------------\")\n",
    "encoder.summary()"
   ]
  },
  {
   "cell_type": "markdown",
   "id": "f3fe50c1",
   "metadata": {
    "papermill": {
     "duration": 0.747602,
     "end_time": "2021-11-21T20:43:52.296009",
     "exception": false,
     "start_time": "2021-11-21T20:43:51.548407",
     "status": "completed"
    },
    "tags": []
   },
   "source": [
    "# Decoder"
   ]
  },
  {
   "cell_type": "code",
   "execution_count": 4,
   "id": "0503caf1",
   "metadata": {
    "execution": {
     "iopub.execute_input": "2021-11-21T20:43:53.811338Z",
     "iopub.status.busy": "2021-11-21T20:43:53.810228Z",
     "iopub.status.idle": "2021-11-21T20:43:54.274505Z",
     "shell.execute_reply": "2021-11-21T20:43:54.273767Z",
     "shell.execute_reply.started": "2021-11-21T20:39:28.267349Z"
    },
    "papermill": {
     "duration": 1.244362,
     "end_time": "2021-11-21T20:43:54.274635",
     "exception": false,
     "start_time": "2021-11-21T20:43:53.030273",
     "status": "completed"
    },
    "tags": []
   },
   "outputs": [
    {
     "name": "stdout",
     "output_type": "stream",
     "text": [
      "Decoder Structure\n",
      "------------------------------------\n",
      "Model: \"model_2\"\n",
      "_________________________________________________________________\n",
      "Layer (type)                 Output Shape              Param #   \n",
      "=================================================================\n",
      "input_2 (InputLayer)         [(None, 7, 7, 4)]         0         \n",
      "_________________________________________________________________\n",
      "up_sampling2d (UpSampling2D) (None, 14, 14, 4)         0         \n",
      "_________________________________________________________________\n",
      "conv2d_3 (Conv2D)            (None, 14, 14, 20)        740       \n",
      "_________________________________________________________________\n",
      "up_sampling2d_1 (UpSampling2 (None, 28, 28, 20)        0         \n",
      "_________________________________________________________________\n",
      "conv2d_4 (Conv2D)            (None, 28, 28, 100)       18100     \n",
      "_________________________________________________________________\n",
      "conv2d_5 (Conv2D)            (None, 28, 28, 1)         401       \n",
      "=================================================================\n",
      "Total params: 19,241\n",
      "Trainable params: 19,241\n",
      "Non-trainable params: 0\n",
      "_________________________________________________________________\n"
     ]
    }
   ],
   "source": [
    "decoder_input = keras.Input(shape=(7,7,embed_filter_c))\n",
    "n5 = autoencoder.layers[-5](decoder_input)\n",
    "n4 = autoencoder.layers[-4](n5)\n",
    "n3 = autoencoder.layers[-3](n4)\n",
    "n2 = autoencoder.layers[-2](n3)\n",
    "n1 = autoencoder.layers[-1](n2)\n",
    "decoder = keras.Model(decoder_input,n1)\n",
    "\n",
    "decoded_imgs = decoder.predict(encoded_imgs)\n",
    "print(\"Decoder Structure\\n------------------------------------\")\n",
    "decoder.summary()"
   ]
  },
  {
   "cell_type": "markdown",
   "id": "27da23bc",
   "metadata": {
    "papermill": {
     "duration": 0.733196,
     "end_time": "2021-11-21T20:43:55.744776",
     "exception": false,
     "start_time": "2021-11-21T20:43:55.011580",
     "status": "completed"
    },
    "tags": []
   },
   "source": [
    "# Visualization"
   ]
  },
  {
   "cell_type": "code",
   "execution_count": 5,
   "id": "b0742d21",
   "metadata": {
    "execution": {
     "iopub.execute_input": "2021-11-21T20:43:57.228340Z",
     "iopub.status.busy": "2021-11-21T20:43:57.227089Z",
     "iopub.status.idle": "2021-11-21T20:43:57.230679Z",
     "shell.execute_reply": "2021-11-21T20:43:57.230230Z",
     "shell.execute_reply.started": "2021-11-21T20:39:28.755238Z"
    },
    "papermill": {
     "duration": 0.742907,
     "end_time": "2021-11-21T20:43:57.230784",
     "exception": false,
     "start_time": "2021-11-21T20:43:56.487877",
     "status": "completed"
    },
    "tags": []
   },
   "outputs": [
    {
     "data": {
      "text/plain": [
       "4409"
      ]
     },
     "execution_count": 5,
     "metadata": {},
     "output_type": "execute_result"
    }
   ],
   "source": [
    "from random import seed\n",
    "from random import random\n",
    "# seed random number generator\n",
    "seed(3245)\n",
    "K = 10\n",
    "r = int(random()*(10000-K))\n",
    "r"
   ]
  },
  {
   "cell_type": "code",
   "execution_count": 6,
   "id": "c0ff703a",
   "metadata": {
    "execution": {
     "iopub.execute_input": "2021-11-21T20:43:58.977260Z",
     "iopub.status.busy": "2021-11-21T20:43:58.976571Z",
     "iopub.status.idle": "2021-11-21T20:44:02.386318Z",
     "shell.execute_reply": "2021-11-21T20:44:02.385586Z",
     "shell.execute_reply.started": "2021-11-21T20:40:12.216207Z"
    },
    "papermill": {
     "duration": 4.4142,
     "end_time": "2021-11-21T20:44:02.386464",
     "exception": false,
     "start_time": "2021-11-21T20:43:57.972264",
     "status": "completed"
    },
    "tags": []
   },
   "outputs": [
    {
     "data": {
      "image/png": "[encoded data removed]",
      "text/plain": [
       "<Figure size 3600x720 with 20 Axes>"
      ]
     },
     "metadata": {
      "needs_background": "light"
     },
     "output_type": "display_data"
    },
    {
     "name": "stdout",
     "output_type": "stream",
     "text": [
      "Encodings 7*7*4\n"
     ]
    },
    {
     "data": {
      "image/png": "[encoded data removed]",
      "text/plain": [
       "<Figure size 3600x1440 with 40 Axes>"
      ]
     },
     "metadata": {
      "needs_background": "light"
     },
     "output_type": "display_data"
    }
   ],
   "source": [
    "import matplotlib.pyplot as plt\n",
    "\n",
    "\n",
    "plt.figure(figsize=(K*5, 10))\n",
    "for i in range(r, K + r):\n",
    "    # Display original\n",
    "    ax = plt.subplot(2, K, i-r+1)\n",
    "    plt.imshow(x_test[i].reshape(28, 28))\n",
    "    plt.gray()\n",
    "    ax.get_xaxis().set_visible(False)\n",
    "    ax.get_yaxis().set_visible(False)\n",
    "\n",
    "    # Display reconstruction\n",
    "    ax = plt.subplot(2, K, i - r+1  + K)\n",
    "    plt.imshow(decoded_imgs[i].reshape(28, 28))\n",
    "    plt.gray()\n",
    "    ax.get_xaxis().set_visible(False)\n",
    "    ax.get_yaxis().set_visible(False)\n",
    "plt.show()\n",
    "print(\"Encodings 7*7*\"+str(embed_filter_c))\n",
    "fig, ax = plt.subplots(embed_filter_c,K,figsize=(5*K,embed_filter_c*5))\n",
    "for k in range(embed_filter_c):\n",
    "    for i in range(1, K + 1):\n",
    "        ax[k,i-1].imshow(encoded_imgs[i+r-1,:,:,k])\n",
    "        plt.gray()\n",
    "        ax[k,i-1].get_xaxis().set_visible(False)\n",
    "        ax[k,i-1].get_yaxis().set_visible(False)\n",
    "plt.show()"
   ]
  }
 ],
 "metadata": {
  "kernelspec": {
   "display_name": "Python 3",
   "language": "python",
   "name": "python3"
  },
  "language_info": {
   "codemirror_mode": {
    "name": "ipython",
    "version": 3
   },
   "file_extension": ".py",
   "mimetype": "text/x-python",
   "name": "python",
   "nbconvert_exporter": "python",
   "pygments_lexer": "ipython3",
   "version": "3.7.10"
  },
  "papermill": {
   "default_parameters": {},
   "duration": 205.38877,
   "end_time": "2021-11-21T20:44:06.525982",
   "environment_variables": {},
   "exception": null,
   "input_path": "__notebook__.ipynb",
   "output_path": "__notebook__.ipynb",
   "parameters": {},
   "start_time": "2021-11-21T20:40:41.137212",
   "version": "2.3.3"
  }
 },
 "nbformat": 4,
 "nbformat_minor": 5
}
